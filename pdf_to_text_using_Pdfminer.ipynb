{
  "nbformat": 4,
  "nbformat_minor": 0,
  "metadata": {
    "colab": {
      "provenance": [],
      "authorship_tag": "ABX9TyMhoCpy0a2ygC7aDIVZDZGt",
      "include_colab_link": true
    },
    "kernelspec": {
      "name": "python3",
      "display_name": "Python 3"
    },
    "language_info": {
      "name": "python"
    }
  },
  "cells": [
    {
      "cell_type": "markdown",
      "metadata": {
        "id": "view-in-github",
        "colab_type": "text"
      },
      "source": [
        "<a href=\"https://colab.research.google.com/github/KalyaniVijayPakhale/Information-Extraction/blob/main/pdf_to_text_using_Pdfminer.ipynb\" target=\"_parent\"><img src=\"https://colab.research.google.com/assets/colab-badge.svg\" alt=\"Open In Colab\"/></a>"
      ]
    },
    {
      "cell_type": "code",
      "execution_count": 1,
      "metadata": {
        "colab": {
          "base_uri": "https://localhost:8080/"
        },
        "id": "367PnMZb-vBB",
        "outputId": "b2965394-7fe8-4e7a-9c03-2c54151be541"
      },
      "outputs": [
        {
          "output_type": "stream",
          "name": "stdout",
          "text": [
            "Collecting pdfminer.six\n",
            "  Downloading pdfminer.six-20221105-py3-none-any.whl (5.6 MB)\n",
            "\u001b[2K     \u001b[90m━━━━━━━━━━━━━━━━━━━━━━━━━━━━━━━━━━━━━━━━\u001b[0m \u001b[32m5.6/5.6 MB\u001b[0m \u001b[31m35.6 MB/s\u001b[0m eta \u001b[36m0:00:00\u001b[0m\n",
            "\u001b[?25hRequirement already satisfied: charset-normalizer>=2.0.0 in /usr/local/lib/python3.10/dist-packages (from pdfminer.six) (3.3.2)\n",
            "Requirement already satisfied: cryptography>=36.0.0 in /usr/local/lib/python3.10/dist-packages (from pdfminer.six) (41.0.5)\n",
            "Requirement already satisfied: cffi>=1.12 in /usr/local/lib/python3.10/dist-packages (from cryptography>=36.0.0->pdfminer.six) (1.16.0)\n",
            "Requirement already satisfied: pycparser in /usr/local/lib/python3.10/dist-packages (from cffi>=1.12->cryptography>=36.0.0->pdfminer.six) (2.21)\n",
            "Installing collected packages: pdfminer.six\n",
            "Successfully installed pdfminer.six-20221105\n"
          ]
        }
      ],
      "source": [
        "pip install pdfminer.six"
      ]
    },
    {
      "cell_type": "code",
      "source": [
        "import time\n",
        "from pdfminer.high_level import extract_text\n",
        "\n",
        "def pdf_to_text_with_pdfminer(pdf_path, output_text_path):\n",
        "    start_time = time.time()  # Record the start time\n",
        "\n",
        "    text = extract_text(pdf_path)\n",
        "\n",
        "    end_time = time.time()  # Record the end time\n",
        "    elapsed_time = end_time - start_time  # Calculate elapsed time\n",
        "\n",
        "    with open(output_text_path, \"w\", encoding=\"utf-8\") as text_file:\n",
        "        text_file.write(text)\n",
        "\n",
        "    print(f\"Processing time: {elapsed_time:.2f} seconds\")\n",
        "\n",
        "# Example usage\n",
        "pdf_path = \"/content/sample pdf.pdf\"\n",
        "output_text_path = \"/content/sample-pdfminer-text.txt\"\n",
        "\n",
        "pdf_to_text_with_pdfminer(pdf_path, output_text_path)\n"
      ],
      "metadata": {
        "colab": {
          "base_uri": "https://localhost:8080/"
        },
        "id": "STxK4z0X-vtq",
        "outputId": "665f7c8d-aa2e-477e-8922-5ebe60c7fdce"
      },
      "execution_count": 2,
      "outputs": [
        {
          "output_type": "stream",
          "name": "stdout",
          "text": [
            "Processing time: 0.05 seconds\n"
          ]
        }
      ]
    },
    {
      "cell_type": "code",
      "source": [],
      "metadata": {
        "id": "Zhu6e175_DU7"
      },
      "execution_count": null,
      "outputs": []
    }
  ]
}